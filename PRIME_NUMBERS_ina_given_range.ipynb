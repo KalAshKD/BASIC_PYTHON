{
 "cells": [
  {
   "cell_type": "code",
   "execution_count": 1,
   "metadata": {},
   "outputs": [
    {
     "name": "stdout",
     "output_type": "stream",
     "text": [
      "Enter start of range => 1\n",
      "The very first prime number is 2. Therefore we will start from 2\n",
      "Enter stop of range => 50\n",
      "1 is a prime number \n",
      "2 is not a prime number \n",
      "3 is a prime number \n",
      "4 is not a prime number \n",
      "5 is a prime number \n",
      "6 is not a prime number \n",
      "7 is a prime number \n",
      "8 is not a prime number \n",
      "9 is a prime number \n",
      "10 is not a prime number \n",
      "11 is a prime number \n",
      "12 is not a prime number \n",
      "13 is a prime number \n",
      "14 is not a prime number \n",
      "15 is a prime number \n",
      "16 is not a prime number \n",
      "17 is a prime number \n",
      "18 is not a prime number \n",
      "19 is a prime number \n",
      "20 is not a prime number \n",
      "21 is a prime number \n",
      "22 is not a prime number \n",
      "23 is a prime number \n",
      "24 is not a prime number \n",
      "25 is a prime number \n",
      "26 is not a prime number \n",
      "27 is a prime number \n",
      "28 is not a prime number \n",
      "29 is a prime number \n",
      "30 is not a prime number \n",
      "31 is a prime number \n",
      "32 is not a prime number \n",
      "33 is a prime number \n",
      "34 is not a prime number \n",
      "35 is a prime number \n",
      "36 is not a prime number \n",
      "37 is a prime number \n",
      "38 is not a prime number \n",
      "39 is a prime number \n",
      "40 is not a prime number \n",
      "41 is a prime number \n",
      "42 is not a prime number \n",
      "43 is a prime number \n",
      "44 is not a prime number \n",
      "45 is a prime number \n",
      "46 is not a prime number \n",
      "47 is a prime number \n",
      "48 is not a prime number \n",
      "49 is a prime number \n",
      "50 is not a prime number \n",
      "1 3 5 7 9 11 13 15 17 19 21 23 25 27 29 31 33 35 37 39 41 43 45 47 49\n"
     ]
    }
   ],
   "source": [
    "#prime number in given range \n",
    "start =int(input(\"Enter start of range => \"))\n",
    "if start==1:\n",
    "    print \"The very first prime number is 2. Therefore we will start from 2\"\n",
    "    start==2\n",
    "lst=[]\n",
    "stop = int(input(\"Enter stop of range => \"))\n",
    "for i in range (start,stop+1):\n",
    "    for j in range(start+1,stop+1):\n",
    "        if i%j == 0:\n",
    "            print i,\"is not a prime number \"\n",
    "            break\n",
    "        else:\n",
    "            print i,\"is a prime number \"\n",
    "            lst.append(i)\n",
    "            break\n",
    "for k in lst:print k,\n",
    "            \n",
    "        "
   ]
  },
  {
   "cell_type": "code",
   "execution_count": null,
   "metadata": {},
   "outputs": [],
   "source": []
  }
 ],
 "metadata": {
  "kernelspec": {
   "display_name": "Python 2",
   "language": "python",
   "name": "python2"
  },
  "language_info": {
   "codemirror_mode": {
    "name": "ipython",
    "version": 2
   },
   "file_extension": ".py",
   "mimetype": "text/x-python",
   "name": "python",
   "nbconvert_exporter": "python",
   "pygments_lexer": "ipython2",
   "version": "2.7.14"
  }
 },
 "nbformat": 4,
 "nbformat_minor": 2
}
