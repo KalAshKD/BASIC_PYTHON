{
 "cells": [
  {
   "cell_type": "code",
   "execution_count": 12,
   "metadata": {},
   "outputs": [
    {
     "name": "stdout",
     "output_type": "stream",
     "text": [
      "1 1 1 1 1\n",
      "2 2 2 2 2\n",
      "3 3 3 3 3\n",
      "4 4 4 4 4\n",
      "5 5 5 5 5\n"
     ]
    }
   ],
   "source": [
    "for j in range (1,6):\n",
    "    for i in range (1,6):print(j),\n",
    "    print\n"
   ]
  },
  {
   "cell_type": "code",
   "execution_count": 18,
   "metadata": {},
   "outputs": [
    {
     "name": "stdout",
     "output_type": "stream",
     "text": [
      "* * * * *\n",
      "* * * * *\n",
      "* * * * *\n",
      "* * * * *\n",
      "* * * * *\n"
     ]
    }
   ],
   "source": [
    "for a in range(1,6):\n",
    "    for b in range(1,6):print(\"*\"),\n",
    "    print"
   ]
  },
  {
   "cell_type": "code",
   "execution_count": 1,
   "metadata": {},
   "outputs": [
    {
     "name": "stdout",
     "output_type": "stream",
     "text": [
      "1 2 3 4 5\n",
      "1 2 3 4\n",
      "1 2 3\n",
      "1 2\n",
      "1\n"
     ]
    }
   ],
   "source": [
    "\"\"\"1 2 3 4 5\n",
    "   1 2 3 4\n",
    "   1 2 3\n",
    "   1 2 \n",
    "   1\"\"\"\n",
    "for i in range (5,0,-1):#if the base is upar then descending if niche then ascending\n",
    "    for j in range(1,i+1):print(j),#if we wnat to print ascending then then start= 1 or 0 if descending then start will be the first variable\n",
    "    print\n"
   ]
  },
  {
   "cell_type": "code",
   "execution_count": 20,
   "metadata": {},
   "outputs": [
    {
     "name": "stdout",
     "output_type": "stream",
     "text": [
      "5 4 3 2 1\n",
      "4 3 2 1\n",
      "3 2 1\n",
      "2 1\n",
      "1\n"
     ]
    }
   ],
   "source": [
    "\"\"\"5 4 3 2 1\n",
    "   5 4 3 2\n",
    "   5 4 3\n",
    "   5 4 \n",
    "   5\"\"\"\n",
    "for a in range(5,0,-1):\n",
    "    for b in range (a,0,-1):print(b),\n",
    "    print\n"
   ]
  },
  {
   "cell_type": "code",
   "execution_count": 21,
   "metadata": {},
   "outputs": [
    {
     "name": "stdout",
     "output_type": "stream",
     "text": [
      "*\n",
      "* *\n",
      "* * *\n",
      "* * * *\n",
      "* * * * *\n"
     ]
    }
   ],
   "source": [
    "\"\"\"*\n",
    "   * *\n",
    "   * * *\n",
    "   * * * *\n",
    "   * * * * *\"\"\"\n",
    "for q in range(1,6):\n",
    "    for w in range(1,q+1):print(\"*\"),\n",
    "    print\n"
   ]
  },
  {
   "cell_type": "code",
   "execution_count": 29,
   "metadata": {},
   "outputs": [
    {
     "name": "stdout",
     "output_type": "stream",
     "text": [
      "1 *\n",
      "2 * *\n",
      "3 * * *\n",
      "4 * * * *\n",
      "5 * * * * *\n"
     ]
    }
   ],
   "source": [
    "\"\"\" 1 *\n",
    "    2 * *\n",
    "    3 * * *\n",
    "    4 * * * *\n",
    "    5 * * * * *\"\"\"\n",
    "for e in range(1,6):\n",
    "    print(e),\n",
    "    for r in range(1,e+1):print(\"*\"),\n",
    "    print\n"
   ]
  },
  {
   "cell_type": "code",
   "execution_count": 30,
   "metadata": {},
   "outputs": [
    {
     "name": "stdout",
     "output_type": "stream",
     "text": [
      "1\n",
      "2 1\n",
      "3 2 1\n",
      "4 3 2 1\n",
      "5 4 3 2 1\n"
     ]
    }
   ],
   "source": [
    "\"\"\" 1\n",
    "    2 1 \n",
    "    3 2 1\n",
    "    4 3 2 1\n",
    "    5 4 3 2 1\"\"\"\n",
    "for i in range(1,6):\n",
    "    for j  in range(i,0,-1):print(j),#when the diagonal is same use 1st var as start with step when base is down\n",
    "    print\n"
   ]
  },
  {
   "cell_type": "code",
   "execution_count": 31,
   "metadata": {},
   "outputs": [
    {
     "name": "stdout",
     "output_type": "stream",
     "text": [
      "1\n",
      "2 2\n",
      "3 3 3\n",
      "4 4 4 4\n",
      "5 5 5 5 5\n"
     ]
    }
   ],
   "source": [
    "\"\"\" 1\n",
    "    2 2\n",
    "    3 3 3\n",
    "    4 4 4 4\n",
    "    5 5 5 5 5\"\"\"\n",
    "#when ever there is an repeat int (in sameline)print st var\n",
    "for x in range(1,6):\n",
    "    for y in range(1,x+1):print(x),\n",
    "    print\n",
    "\n"
   ]
  },
  {
   "cell_type": "code",
   "execution_count": 32,
   "metadata": {},
   "outputs": [
    {
     "name": "stdout",
     "output_type": "stream",
     "text": [
      "1 2 3 4 5\n",
      "2 3 4 5\n",
      "3 4 5\n",
      "4 5\n",
      "5\n"
     ]
    }
   ],
   "source": [
    "\"\"\"1 2 3 4 5\n",
    "2 3 4 5\n",
    "3 4 5 \n",
    "4 5\n",
    "5\"\"\"\n",
    "for v in range(1,6):\n",
    "    for k in range(v,6):print(k),\n",
    "    print"
   ]
  },
  {
   "cell_type": "code",
   "execution_count": 33,
   "metadata": {},
   "outputs": [
    {
     "name": "stdout",
     "output_type": "stream",
     "text": [
      "5\n",
      "5 4\n",
      "5 4 3\n",
      "5 4 3 2\n",
      "5 4 3 2 1\n"
     ]
    }
   ],
   "source": [
    "\n",
    "\"\"\" 5\n",
    "    5 4 \n",
    "    5 4 3\n",
    "    5 4 3 2\n",
    "    5 4 3 2 1\"\"\"\n",
    "for a  in range(5,0,-1):\n",
    "    for b in range(5,a-1,-1):print(b),#when the 1st column is same use 1st var as stop \n",
    "    print\n",
    "\n"
   ]
  }
 ],
 "metadata": {
  "kernelspec": {
   "display_name": "Python 2",
   "language": "python",
   "name": "python2"
  },
  "language_info": {
   "codemirror_mode": {
    "name": "ipython",
    "version": 2
   },
   "file_extension": ".py",
   "mimetype": "text/x-python",
   "name": "python",
   "nbconvert_exporter": "python",
   "pygments_lexer": "ipython2",
   "version": "2.7.14"
  }
 },
 "nbformat": 4,
 "nbformat_minor": 2
}
