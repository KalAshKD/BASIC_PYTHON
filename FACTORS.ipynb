{
 "cells": [
  {
   "cell_type": "code",
   "execution_count": 6,
   "metadata": {},
   "outputs": [
    {
     "name": "stdout",
     "output_type": "stream",
     "text": [
      "Enter any no 24\n",
      "[1, 2, 3, 4, 6, 8, 12, 24]\n",
      "The Factors of  24 are:\n",
      "1 2 3 4 6 8 12 24\n"
     ]
    }
   ],
   "source": [
    "'''Programm to print factors of nummber\n",
    "Factors of 24 are 1, 2, 3, 4, 6, 8, 12, 24 '''\n",
    "def factors(n):\n",
    "    factor=[]\n",
    "    not_factor=[]\n",
    "    for i in range(1,n+1):\n",
    "        if n%i == 0 :\n",
    "            factor.append(i)\n",
    "        else:\n",
    "            not_factor.append(i)\n",
    "        #end if\n",
    "    #end for\n",
    "    print factor\n",
    "    print \"The Factors of \",num,\"are:\"\n",
    "    for j in factor:print j,\n",
    "\n",
    "num=int(input(\"Enter any no \"))\n",
    "factors(num)\n",
    "    "
   ]
  },
  {
   "cell_type": "code",
   "execution_count": null,
   "metadata": {},
   "outputs": [],
   "source": []
  }
 ],
 "metadata": {
  "kernelspec": {
   "display_name": "Python 2",
   "language": "python",
   "name": "python2"
  },
  "language_info": {
   "codemirror_mode": {
    "name": "ipython",
    "version": 2
   },
   "file_extension": ".py",
   "mimetype": "text/x-python",
   "name": "python",
   "nbconvert_exporter": "python",
   "pygments_lexer": "ipython2",
   "version": "2.7.14"
  }
 },
 "nbformat": 4,
 "nbformat_minor": 2
}
