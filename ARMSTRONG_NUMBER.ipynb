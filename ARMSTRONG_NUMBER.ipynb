{
 "cells": [
  {
   "cell_type": "code",
   "execution_count": 3,
   "metadata": {},
   "outputs": [
    {
     "name": "stdout",
     "output_type": "stream",
     "text": [
      "Enter any integer => 153\n",
      "3\n",
      "153\n",
      "The given number is armstrong number \n"
     ]
    }
   ],
   "source": [
    "'''Armstrong no 153 is an armstrong no \n",
    "every digits power is length is equal to no of digits and which is equal to  ''' \n",
    "def armstrong_checker(num):\n",
    "    digits = str(num)# For iteration of integer we are reading num as string\n",
    "    num_digits = len(digits) # For knowing the power\n",
    "    print \"The length is\",num_digits\n",
    "    sum_of_power = sum(int(digit)**num_digits for digit in digits)\n",
    "    print sum_of_power\n",
    "    return sum_of_power == num\n",
    "n=int(input(\"Enter any integer => \"))\n",
    "if armstrong_checker(n):\n",
    "    print \"The given number is armstrong number \"\n",
    "else:\n",
    "    print \"The given no is not an armstrong number\""
   ]
  },
  {
   "cell_type": "code",
   "execution_count": null,
   "metadata": {},
   "outputs": [],
   "source": []
  }
 ],
 "metadata": {
  "kernelspec": {
   "display_name": "Python 2",
   "language": "python",
   "name": "python2"
  },
  "language_info": {
   "codemirror_mode": {
    "name": "ipython",
    "version": 2
   },
   "file_extension": ".py",
   "mimetype": "text/x-python",
   "name": "python",
   "nbconvert_exporter": "python",
   "pygments_lexer": "ipython2",
   "version": "2.7.14"
  }
 },
 "nbformat": 4,
 "nbformat_minor": 2
}
