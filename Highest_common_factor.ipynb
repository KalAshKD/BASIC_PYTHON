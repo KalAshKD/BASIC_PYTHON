{
 "cells": [
  {
   "cell_type": "code",
   "execution_count": 4,
   "metadata": {},
   "outputs": [
    {
     "name": "stdout",
     "output_type": "stream",
     "text": [
      "Enter any no 24\n",
      "Enter any no 36\n",
      "HCF of 24 & 36 is:12\n"
     ]
    }
   ],
   "source": [
    "#HCF of numbers\n",
    "def HCF(num1,num2):\n",
    "    while num1!=num2:\n",
    "        if num1>num2:\n",
    "            num1=num1-num2\n",
    "        else:\n",
    "            num2=num2-num1\n",
    "    return num1\n",
    "a=int(input(\"Enter any no \"))\n",
    "b=int(input(\"Enter any no \"))\n",
    "result=HCF(a,b)\n",
    "print(\"HCF of {} & {} is:{}\".format(a,b,result)) "
   ]
  },
  {
   "cell_type": "code",
   "execution_count": null,
   "metadata": {},
   "outputs": [],
   "source": []
  }
 ],
 "metadata": {
  "kernelspec": {
   "display_name": "Python 2",
   "language": "python",
   "name": "python2"
  },
  "language_info": {
   "codemirror_mode": {
    "name": "ipython",
    "version": 2
   },
   "file_extension": ".py",
   "mimetype": "text/x-python",
   "name": "python",
   "nbconvert_exporter": "python",
   "pygments_lexer": "ipython2",
   "version": "2.7.14"
  }
 },
 "nbformat": 4,
 "nbformat_minor": 2
}
