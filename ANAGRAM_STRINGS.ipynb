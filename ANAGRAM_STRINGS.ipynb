{
 "cells": [
  {
   "cell_type": "code",
   "execution_count": 5,
   "metadata": {},
   "outputs": [
    {
     "name": "stdout",
     "output_type": "stream",
     "text": [
      "ENTER ANY STRING: silent\n",
      "ENTER ANY STRING: listen\n",
      "silent and listen  are anagrams strings\n"
     ]
    }
   ],
   "source": [
    "def check(s1, s2):\n",
    "     \n",
    "    # the sorted strings are checked \n",
    "    if(sorted(s1)== sorted(s2)):\n",
    "        print s1,\"and\",s2 ,\" are anagrams strings\" \n",
    "    else:\n",
    "        print s1,\"and\",s2, \" are not anagrams strings.\"       \n",
    "         \n",
    "# driver code  \n",
    "s1 =raw_input(\"ENTER ANY STRING: \")\n",
    "s2 =raw_input(\"ENTER ANY STRING: \")\n",
    "check(s1, s2)"
   ]
  },
  {
   "cell_type": "code",
   "execution_count": null,
   "metadata": {},
   "outputs": [],
   "source": []
  }
 ],
 "metadata": {
  "kernelspec": {
   "display_name": "Python 2",
   "language": "python",
   "name": "python2"
  },
  "language_info": {
   "codemirror_mode": {
    "name": "ipython",
    "version": 2
   },
   "file_extension": ".py",
   "mimetype": "text/x-python",
   "name": "python",
   "nbconvert_exporter": "python",
   "pygments_lexer": "ipython2",
   "version": "2.7.14"
  }
 },
 "nbformat": 4,
 "nbformat_minor": 2
}
