{
 "cells": [
  {
   "cell_type": "markdown",
   "metadata": {},
   "source": [
    "(1)Code for Hello World (2)Code for Printing First N Natural Numbers\n",
    "\n",
    "(3)Code for Voting System (4)Code for Checking Positive / Negative Number\n",
    "\n",
    "(5)Code for Printing all Operation (6)Code for Checking Number is Even or Odd\n",
    "\n",
    "(7)Code for Grading Scheme (8)Code for Rounding Off Number\n",
    "\n",
    "(9)Code for Square Root and Cube Root (10)Code for Multiples / Table of a Number\n",
    "\n",
    "(11)Code for Greatest of two numbers (12)Code for Greatest of Three Numbers\n",
    "\n",
    "(13)Code for N Power of a number (14)Code for Learning Break Statement\n",
    "\n",
    "(15)Code for Learning Continue Statement (16)Code for Switch Statement\n",
    "\n",
    "(17)Code for Pass by Value Primitive Types (18)Code for Pass by Value for Non-primitives\n",
    "\n",
    "(19)Implement 1D array (20)Code for Printing 2D Array"
   ]
  },
  {
   "cell_type": "code",
   "execution_count": 1,
   "metadata": {},
   "outputs": [
    {
     "name": "stdout",
     "output_type": "stream",
     "text": [
      "Hello World\n"
     ]
    }
   ],
   "source": [
    "#1\n",
    "print \"Hello World\""
   ]
  },
  {
   "cell_type": "code",
   "execution_count": 5,
   "metadata": {},
   "outputs": [
    {
     "name": "stdout",
     "output_type": "stream",
     "text": [
      "Enter any Natural number => 3\n",
      "1 2 3\n"
     ]
    }
   ],
   "source": [
    "#2\n",
    "N=int(input(\"Enter any Natural number => \"))\n",
    "for i in range (1,N+1):print(i),"
   ]
  },
  {
   "cell_type": "code",
   "execution_count": null,
   "metadata": {},
   "outputs": [],
   "source": [
    "#3Code for Voting System \n",
    "Nomi_1=str(raw_input(\"Name of nominee - \"))\n",
    "Nomi_2=str(raw_input(\"Name of nominee - \"))\n",
    "\n",
    "Nomi_1_votes=0\n",
    "Nomi_2_votes=0\n",
    "\n",
    "voter_id=[1,2,3,4,5]\n",
    "num_of_voter=len(voter_id)\n",
    "\n",
    "while len(voter_id)<6:\n",
    "    voter = int(input(\"Enter your id no : \"))\n",
    "    if voter in voter_id:\n",
    "        print(\"You are Voter \")\n",
    "        voter_id.remove(voter)  \n",
    "        vote=raw_input(\"Enter Your vote B or C \")\n",
    "        if vote == \"B\":\n",
    "            Nomi_1_votes+=1\n",
    "            print(\"Thank you for your vote \")\n",
    "        elif vote == \"C\":\n",
    "            Nomi_2_votes+=1\n",
    "            print(\"Thank you for your vote \")\n",
    "        else:\n",
    "            print(\"Enter the proper nominee \")\n",
    "            \n",
    "        "
   ]
  },
  {
   "cell_type": "code",
   "execution_count": 12,
   "metadata": {},
   "outputs": [
    {
     "name": "stdout",
     "output_type": "stream",
     "text": [
      "Enter any integer -9\n",
      "The integer  -9 is an NEGATIVE Integer \n"
     ]
    }
   ],
   "source": [
    "#4\n",
    "def integer_checker (N):\n",
    "    if N == 0:\n",
    "        print \"0 \"\n",
    "    elif N > 0:\n",
    "        print \"The integer \",N,\"is an POSITIVE Integer \"\n",
    "    else:\n",
    "        print \"The integer \",N,\"is an NEGATIVE Integer \"\n",
    "Num=int(input(\"Enter any integer \"))\n",
    "integer_checker(Num)"
   ]
  },
  {
   "cell_type": "code",
   "execution_count": 15,
   "metadata": {},
   "outputs": [
    {
     "name": "stdout",
     "output_type": "stream",
     "text": [
      "Enter any natural number 100\n",
      "Enter any natural number 2\n",
      "The addition of two numbers  100 & 2 is 102\n",
      "The difference between two numbers  100 & 2 is 98\n",
      "The multiplication of two numbers  100 & 2 is 200\n",
      "The division of two numbers  100 & 2 is 50\n",
      "Remainder after dividing  100 by 2 is 0\n",
      "Floor Division of two numbers   100 by 2 is 50\n"
     ]
    }
   ],
   "source": [
    "#5\n",
    "def operations(a,b):\n",
    "    print \"The addition of two numbers \",a,\"&\",b,\"is\",a+b\n",
    "    print \"The difference between two numbers \",a,\"&\",b,\"is\",a-b\n",
    "    print \"The multiplication of two numbers \",a,\"&\",b,\"is\",a*b\n",
    "    print \"The division of two numbers \",a,\"&\",b,\"is\",a/b\n",
    "    print \"Remainder after dividing \",a,\"by\",b,\"is\",a%b\n",
    "    print \"Floor Division of two numbers  \",a,\"by\",b,\"is\",a//b\n",
    "x=int(input(\"Enter any natural number \"))\n",
    "y=int(input(\"Enter any natural number \"))\n",
    "operations(x,y)\n"
   ]
  },
  {
   "cell_type": "code",
   "execution_count": 18,
   "metadata": {},
   "outputs": [
    {
     "name": "stdout",
     "output_type": "stream",
     "text": [
      "Enter any Number=> 100\n",
      "The Given Number is Even Number \n"
     ]
    }
   ],
   "source": [
    "#6\n",
    "def type_checker(X):\n",
    "    if X % 2 == 0:\n",
    "        print \"The Given Number is Even Number \"\n",
    "    elif X % 2 != 0:\n",
    "        print \"The Given Number is Odd Number \"\n",
    "    else:\n",
    "        print \"The Number is 0\"\n",
    "Q=int(input(\"Enter any Number=> \"))\n",
    "type_checker(Q)"
   ]
  },
  {
   "cell_type": "code",
   "execution_count": 12,
   "metadata": {},
   "outputs": [
    {
     "name": "stdout",
     "output_type": "stream",
     "text": [
      "Enter your Marks in DA= 90\n",
      "Enter your Marks in WC = 90\n",
      "Enter your Marks in PE= 90\n",
      "Enter your Marks in OE = 90\n",
      "Enter your Marks in ANN = 90\n",
      "The Total Marks obtained by student is =  450\n",
      "The Percentage  obtained by student is =  90.0\n",
      "Hoooorhheeee \n",
      "You are Passed with A Grade \n"
     ]
    }
   ],
   "source": [
    "#7 Grading Scheme \n",
    "\"\"\" 40- 50 ->E|51 - 60->D|61-70->C|71-80->B|81-94->A|95 - 100 ->A++ \"\"\" \n",
    "#Entering the marks for subjects \n",
    "DA = int(input(\"Enter your Marks in DA= \"))\n",
    "WC = int(input(\"Enter your Marks in WC = \"))\n",
    "PE = int(input(\"Enter your Marks in PE= \"))\n",
    "OE = int(input(\"Enter your Marks in OE = \"))\n",
    "ANN = int(input(\"Enter your Marks in ANN = \"))\n",
    "\n",
    "\n",
    "\n",
    "Total = DA + WC + PE + OE + ANN\n",
    "Percent = float((Total *100)/500)\n",
    "print \"The Total Marks obtained by student is = \",Total\n",
    "print \"The Percentage  obtained by student is = \",Percent\n",
    "\n",
    "if Percent >= 40 and Percent<=50:\n",
    "    print \"Hoooorhheeee \"\n",
    "    print \"You are Passed with E Grade \"\n",
    "elif Percent >= 51 and Percent<=60:\n",
    "    print \"Hoooorhheeee \"\n",
    "    print \"You are Passed with D Grade \"\n",
    "elif Percent >= 61 and Percent<=70:\n",
    "    print \"Hoooorhheeee \"\n",
    "    print \"You are Passed with C Grade \"\n",
    "elif Percent >= 71 and Percent<=80:\n",
    "    print \"Hoooorhheeee \"\n",
    "    print \"You are Passed with B Grade \"\n",
    "elif Percent >= 81 and Percent<=94:\n",
    "    print \"Hoooorhheeee \"\n",
    "    print \"You are Passed with A Grade \"\n",
    "elif Percent >= 95 and Percent<=100:\n",
    "    print \"Hoooorhheeee \"\n",
    "    print \"You are Passed with A++ Grade \""
   ]
  },
  {
   "cell_type": "code",
   "execution_count": 17,
   "metadata": {},
   "outputs": [
    {
     "name": "stdout",
     "output_type": "stream",
     "text": [
      "Enter any decimalnumber => 10.8\n",
      "11.0\n"
     ]
    }
   ],
   "source": [
    "#8 Code for rounding of a number \n",
    "f = float(input(\"Enter any decimalnumber => \"))\n",
    "print(round(f))"
   ]
  },
  {
   "cell_type": "code",
   "execution_count": 20,
   "metadata": {},
   "outputs": [
    {
     "name": "stdout",
     "output_type": "stream",
     "text": [
      "Enter any => 65\n",
      "The suare root and cube root of given number 65 is 8.0622577483 and 1 respectively\n"
     ]
    }
   ],
   "source": [
    "#9 square and cube \n",
    "import math \n",
    "Number = int(input(\"Enter any => \"))\n",
    "suare_root=math.sqrt(Number)\n",
    "cube_root= Number**(1/3)\n",
    "print \"The suare root and cube root of given number\",Number,\"is\",suare_root,\"and\",cube_root,\"respectively\""
   ]
  },
  {
   "cell_type": "code",
   "execution_count": 22,
   "metadata": {},
   "outputs": [
    {
     "name": "stdout",
     "output_type": "stream",
     "text": [
      "enter any no => 5\n",
      "Enter the range till which you want to print the table for given no => 10\n",
      "5\n",
      "10\n",
      "15\n",
      "20\n",
      "25\n",
      "30\n",
      "35\n",
      "40\n",
      "45\n",
      "50\n"
     ]
    }
   ],
   "source": [
    "#10 table \n",
    "T = int(input(\"enter any no => \"))\n",
    "Range = int(input(\"Enter the range till which you want to print the table for given no => \"))\n",
    "for i in range(1,Range+1):\n",
    "    mul=T*i\n",
    "    print(mul)"
   ]
  },
  {
   "cell_type": "code",
   "execution_count": 23,
   "metadata": {},
   "outputs": [
    {
     "name": "stdout",
     "output_type": "stream",
     "text": [
      "Enter any no 59\n",
      "Enter any no 90\n",
      "90 is Greatest\n"
     ]
    }
   ],
   "source": [
    "#11 gretest \n",
    "o = int(input(\"Enter any no \"))\n",
    "p = int(input(\"Enter any no \"))\n",
    "if o>p:\n",
    "    print o,\"is greatest\"\n",
    "else:\n",
    "    print p , \"is Greatest\""
   ]
  },
  {
   "cell_type": "code",
   "execution_count": 25,
   "metadata": {},
   "outputs": [
    {
     "name": "stdout",
     "output_type": "stream",
     "text": [
      "Enter any no 99\n",
      "Enter any no 99\n",
      "Enter any no 9\n",
      "no are Equal \n"
     ]
    }
   ],
   "source": [
    "#12 Greatest three no \n",
    "s = int(input(\"Enter any no \"))\n",
    "S = int(input(\"Enter any no \"))\n",
    "Q = int(input(\"Enter any no \"))\n",
    "if s==S or S==Q:\n",
    "    print \"no are Equal \"\n",
    "else:\n",
    "    if s>S and s>Q:\n",
    "        print s,\"is greatest\"\n",
    "    elif S>Q:\n",
    "        print S , \"is Greatest\"\n",
    "    else:\n",
    "        print Q, \"is Greatest\""
   ]
  },
  {
   "cell_type": "code",
   "execution_count": 26,
   "metadata": {},
   "outputs": [
    {
     "name": "stdout",
     "output_type": "stream",
     "text": [
      "Enter any no=> 10\n",
      "Enter the power =2\n",
      "100\n"
     ]
    }
   ],
   "source": [
    "#13 Code for N power of no \n",
    "j= int(input(\"Enter any no=> \"))\n",
    "N=int(input(\"Enter the power =\"))\n",
    "print(j**N)\n"
   ]
  },
  {
   "cell_type": "code",
   "execution_count": 3,
   "metadata": {},
   "outputs": [
    {
     "name": "stdout",
     "output_type": "stream",
     "text": [
      "Enter any int3\n",
      "The number is prime \n"
     ]
    }
   ],
   "source": [
    "#14 Code for learning break statement \n",
    "z=int(input(\"Enter any int\"))\n",
    "for i in range(2,z):\n",
    "    if (z%i)==0:\n",
    "        print \"The no not  is prime\"\n",
    "        break\n",
    "    else:\n",
    "        print \"The number is prime \"\n",
    "        break"
   ]
  },
  {
   "cell_type": "code",
   "execution_count": 4,
   "metadata": {},
   "outputs": [
    {
     "name": "stdout",
     "output_type": "stream",
     "text": [
      "Enter a number: 153\n",
      "(153, 'is an Armstrong number')\n"
     ]
    }
   ],
   "source": [
    "#extra 1\n",
    "n = int(input(\"Enter a number: \"))\n",
    "\n",
    "#initialize the sum\n",
    "s = 0\n",
    "t = n\n",
    "while t > 0:\n",
    "    digit = t % 10\n",
    "    s += digit ** 3\n",
    "    t //= 10\n",
    "\n",
    "# display the result\n",
    "if n == s:\n",
    "    print(n,\"is an Armstrong number\")\n",
    "else:\n",
    "    print(n,\"is not an Armstrong number\")"
   ]
  },
  {
   "cell_type": "markdown",
   "metadata": {},
   "source": [
    "How would you write a Python program to convert a temperature from Celsius to Fahrenheit?\n",
    "\n",
    "Write a Python function to check if a number is positive, negative, or zero.\n",
    "\n",
    "\n",
    "Write a Python program to check if a given string is a palindrome.\n",
    "\n",
    "How would you write a Python program to reverse a string without using slicing?"
   ]
  },
  {
   "cell_type": "markdown",
   "metadata": {},
   "source": [
    "\n",
    "Write a Python program to count the number of vowels in a given string.\n",
    "\n",
    "Write a Python program to generate and print the first n multiples of a given number.\n",
    "\n"
   ]
  },
  {
   "cell_type": "code",
   "execution_count": 4,
   "metadata": {},
   "outputs": [
    {
     "name": "stdout",
     "output_type": "stream",
     "text": [
      "ENTER TEMPRETURE IN CELCIUS : 32\n",
      "TEMPRETURE IN FAHRENHEIT IS  64.0\n"
     ]
    }
   ],
   "source": [
    "#How would you write a Python program to convert a temperature from Celsius to Fahrenheit?\n",
    "Celcius= float(input(\"ENTER TEMPRETURE IN CELCIUS : \"))\n",
    "fahrenheit = (9/5 * Celcius) + 32\n",
    "print \"TEMPRETURE IN FAHRENHEIT IS \",fahrenheit"
   ]
  },
  {
   "cell_type": "code",
   "execution_count": 5,
   "metadata": {},
   "outputs": [
    {
     "name": "stdout",
     "output_type": "stream",
     "text": [
      "Enter a string: racecar\n",
      "The string is a palindrome.\n"
     ]
    }
   ],
   "source": [
    "#palindrome\n",
    "\n",
    "string = raw_input(\"Enter a string: \")\n",
    "\n",
    "\n",
    "# Reverse the string\n",
    "reversed_string = string[::-1]\n",
    "\n",
    "# Compare the original and reversed strings\n",
    "if string == reversed_string:\n",
    "    print \"The string is a palindrome.\"\n",
    "else:\n",
    "    print \"The string is not a palindrome.\""
   ]
  },
  {
   "cell_type": "code",
   "execution_count": 12,
   "metadata": {},
   "outputs": [
    {
     "name": "stdout",
     "output_type": "stream",
     "text": [
      "Enter a string: hi\n",
      "ih\n"
     ]
    }
   ],
   "source": [
    "#How would you write a Python program to reverse a string without using slicing?\n",
    "string2 = raw_input(\"Enter a string: \")\n",
    "reversed_s = \"\"\n",
    "for char in string2:\n",
    "    reversed_s = char + reversed_s\n",
    "print reversed_s\n"
   ]
  },
  {
   "cell_type": "code",
   "execution_count": 13,
   "metadata": {},
   "outputs": [
    {
     "name": "stdout",
     "output_type": "stream",
     "text": [
      "ENTER ANY  NUMBER=>45\n",
      "ENTER ANY  NUMBER=> 15\n",
      "GCD of 45 and 15 is: 15\n"
     ]
    }
   ],
   "source": [
    "# How can you write a Python function to calculate the Greatest Common Divisor (GCD) of two numbers?\n",
    "def gcd(a, b):\n",
    "    while b != 0:\n",
    "        a, b = b, a % b\n",
    "    return a\n",
    "\n",
    "# Example usage\n",
    "num1 = int(input(\"ENTER ANY  NUMBER=>\"))\n",
    "num2 = int(input(\"ENTER ANY  NUMBER=> \"))\n",
    "result = gcd(num1, num2)\n",
    "print(\"GCD of {} and {} is: {}\".format(num1, num2, result))\n"
   ]
  },
  {
   "cell_type": "code",
   "execution_count": 15,
   "metadata": {},
   "outputs": [
    {
     "name": "stdout",
     "output_type": "stream",
     "text": [
      "ENTER ANY STRING =>kalash \n",
      "2\n"
     ]
    }
   ],
   "source": [
    "#Write a Python program to count the number of vowels in a given string.\n",
    "vowels = [\"a\",\"A\",\"E\",\"e\",\"O\",\"o\",\"U\",\"u\"]\n",
    "input_string=str(raw_input(\"ENTER ANY STRING =>\"))\n",
    "c=0\n",
    "for i in vowels:\n",
    "    for j in input_string:\n",
    "        if i == j :\n",
    "            c+=1\n",
    "print c"
   ]
  },
  {
   "cell_type": "code",
   "execution_count": 5,
   "metadata": {},
   "outputs": [
    {
     "name": "stdout",
     "output_type": "stream",
     "text": [
      "ENTER THE NUMBER 5\n",
      "ENTER THE START : 5\n",
      "ENTER THE STOP : 75\n",
      "The Multipels of  5 Between the range of  5 And 75 are [5, 10, 15, 20, 25, 30, 35, 40, 45, 50, 55, 60, 65, 70]\n"
     ]
    }
   ],
   "source": [
    "# Write a Python program to generate and print the first n multiples of a given number.\n",
    "num=int(input(\"ENTER THE NUMBER \"))\n",
    "Start=int(input(\"ENTER THE START : \"))\n",
    "Stop=int(input(\"ENTER THE STOP : \"))\n",
    "\n",
    "multiples=[]\n",
    "\n",
    "#finding multiples\n",
    "for i in range(Start,Stop):\n",
    "    if i%num==0:\n",
    "        multiples.append(i)\n",
    "print \"The Multipels of \",num,\"Between the range of \",Start,\"And\",Stop,\"are\",multiples"
   ]
  },
  {
   "cell_type": "code",
   "execution_count": null,
   "metadata": {},
   "outputs": [],
   "source": []
  }
 ],
 "metadata": {
  "kernelspec": {
   "display_name": "Python 2",
   "language": "python",
   "name": "python2"
  },
  "language_info": {
   "codemirror_mode": {
    "name": "ipython",
    "version": 2
   },
   "file_extension": ".py",
   "mimetype": "text/x-python",
   "name": "python",
   "nbconvert_exporter": "python",
   "pygments_lexer": "ipython2",
   "version": "2.7.14"
  }
 },
 "nbformat": 4,
 "nbformat_minor": 2
}
